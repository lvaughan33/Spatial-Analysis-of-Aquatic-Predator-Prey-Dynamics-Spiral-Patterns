{
 "cells": [
  {
   "cell_type": "markdown",
   "metadata": {},
   "source": [
    "# Spatial Analysis of Aquatic Predator-Prey Dynamics: Spiral Patterns\n",
    "\n",
    "Author: Luke Vaughan\n",
    "\n",
    "Course: MATH 645 Numerical Analysis II (College of Charleston, Fall 2021)\n",
    "\n",
    "Instructor: Daniel Poll\n",
    "\n",
    "$$\\textbf{_____________________________________________________________________________________________________________________}$$    \n",
    "    \n",
    "$$$$\n",
    "    \n",
    "<div align=\"left\"> \n",
    "    \n",
    "$\\underline{\\text{Contents}}$\n",
    "\n",
    "I. Introduction\n",
    "\n",
    "II. Methods\n",
    "    \n",
    "        A. Nonlinear Reaction-Diffusion System\n",
    "    \n",
    "        B. Finite Differences\n",
    "    \n",
    "        C. Associated Linear System\n",
    "    \n",
    "        D. Code\n",
    "        \n",
    "            1. Parameters\n",
    "        \n",
    "            2. Sparse Matrix AMATs\n",
    "        \n",
    "                (i) Sparse Blocks Ss, Ts, Ws, Xs, Ys, and Zs\n",
    "        \n",
    "                (ii) Sparse Tridiagonal Block Matrix Ls\n",
    "        \n",
    "                (iii) Sparse Matrices B1s and B2s\n",
    "        \n",
    "            3. BVEC\n",
    "        \n",
    "                (i) Initial Conditions\n",
    "        \n",
    "                (ii) Initial Condition Plots\n",
    "        \n",
    "            4. Biconjugate Gradient Algorithm\n",
    "        \n",
    "            5. XSOLN\n",
    "        \n",
    "                (i) Time Loop\n",
    "\n",
    "III. Results\n",
    "    \n",
    "        A. Pattern 1\n",
    "    \n",
    "        B. Pattern 2\n",
    "    \n",
    "        C. Pattern 3\n",
    "\n",
    "IV. Conclusion\n",
    "\n",
    "V. Appendix\n",
    "\n",
    "VI. Sources\n",
    "\n",
    "$$\\textbf{_____________________________________________________________________________________________________________________}$$    "
   ]
  },
  {
   "cell_type": "markdown",
   "metadata": {},
   "source": [
    "## I. Introduction\n",
    "\n",
    "Spatial pattern formation is an intriguing topic in mathematical biology. Mathematical models, defined as systems of partial differential equations, yield rich predictions for several different types of populations. Here, the motivation is to study spatial pattern formation in an aquatic predator-prey model. The numerical techniques required for successful modeling are discussed in Methods. Six plots of spiral patterns are included in Results. A brief discussion on aquatic vs. terrestrial populations is included at the end. \n",
    "\n",
    "Predator-prey dynamics can be described mathematically by a system of coupled reaction-diffusion equations. Source [1] provides an example of a nonlinear reaction-diffusion system. Numerical simulations yield approximations for solutions on a two-dimensional domain. These simulations provide a \"bird's-eye view\" of the phenomena. Mathematicians frequently take this approach while studying applications in biology. In the source plots, we can see predictions for spatial patterns resembling spirals, labyrinths, and dartboards. The goal of this project is to reproduce the spiral patterns (source [1], p 944) and gain insights into predator-prey dynamics."
   ]
  },
  {
   "cell_type": "markdown",
   "metadata": {},
   "source": [
    "## II. Methods\n",
    "\n",
    "## A. Nonlinear Reaction-Diffusion System\n",
    "\n",
    "The dependent variables in the predator-prey model are $u(x,y,t)$ and $v(x,y,t)$, representing densities of the prey and predator, respectively. The two species interact in a square domain (500 $\\times$ 500 m) with \"zero-flux\" boundary conditions (nothing enters or exits the domain). Assume that the units are in meters for the sake of visualization. Based on a Google Maps measurement [4], we can visualize a domain that is approximately the same size as Hampton Park in Charleston, SC. \n",
    "\n",
    "The authors of source [1] define the nonlinear reaction-diffusion system as\n",
    "\n",
    "$$\n",
    "\\begin{cases} u_t = \\delta_1 \\nabla^2 u + ru\\left(1 - u/w\\right) - pvh(ku) \\\\ v_t = \\delta_2 \\nabla^2 v + qvh(ku) - sv\\end{cases}\n",
    "\\tag{1}\n",
    "$$\n",
    "\n",
    "where $\\nabla^2$ is the Laplacian operator and $\\delta_1, \\delta_2$ are the diffusion coefficients. The functional response $h(ku)$ represents the prey consumption rate per predator. The parameters are each given biological interpretations. For example, $p$ is the maximal consumption rate. \"The constant $k$ determines how fast the consumption rate saturates as the prey density increases, $q$ and $r$ denote maximal per capita birth rates of predator and prey, respectively, $s$ is the per capita predator death rate, and $w$ is the prey-carrying capacity\" [1].\n",
    "\n",
    "After performing a transformation (see Appendix for details), we can obtain \"dimensionless\" forms of $u(x,y,t)$ and $v(x,y,t)$. The dimensionless forms (no units of measurement) are much easier to work with. We can also use the parameters in system (1) to define new parameters $a,b,c,$ and $\\delta$. The dimensionless system is given as\n",
    "\n",
    "$$\n",
    "\\begin{cases} u_t = \\nabla^2 u + u(1 - u) - v h(au) \\\\ v_t = \\delta \\nabla^2 v + bv h(au) - cv \\end{cases}\n",
    "\\tag{2}\n",
    "$$\n",
    "\n",
    "The authors of source [1] eventually replace the functional response $h$ in system (2) with\n",
    "\n",
    "$$\\hat{h}(\\chi) = \\frac{\\chi}{1 + \\big|\\chi\\big|} \\tag{3}$$"
   ]
  },
  {
   "cell_type": "markdown",
   "metadata": {},
   "source": [
    "<a id='cell3'></a>\n",
    "\n",
    "## B. Finite Differences\n",
    "\n",
    "Since system (2) is nonlinear and two-dimensional, we need sophisticated methods to solve it numerically. First, the authors of source [1] use finite differences to obtain the associated linear system (6). Then the result is written in block matrix notation (see \"Scheme 2,\" p 939-940). Finally, the linear system is solved using GMRES. Here, the system is solved using the Biconjugate Gradient Algorithm instead. \n",
    "\n",
    "Some notation is given below.\n",
    "\n",
    "$$\\text{Square domain:} \\; \\Omega = [a,b] \\times [a,b] \\; \\; \\; \\; \\; (a = 0, b = 500)$$\n",
    "\n",
    "$$\\text{Grid points:} \\; (x_i,y_j) = (ih + a, jh + a) \\; \\; \\; \\; \\; i,j = 0,...,J$$\n",
    "\n",
    "$$\\text{Number of divisions of one axis:} \\; J = \\frac{b-a}{h} = 500$$\n",
    "\n",
    "$$\\text{Space stepsize:} \\; h = \\frac{b-a}{J} = 1$$\n",
    "\n",
    "$$\\text{Number of nodes on one axis:} \\; \\; \\text{dim}J = J + 1 = 501$$\n",
    "\n",
    "$$\\text{Total number of nodes:} \\; \\; \\text{ntotal} = \\text{dim}J^2 = (J + 1)^2 = 251,001$$\n",
    "\n",
    "$$\\text{Time interval:} \\; [0,T] \\; \\; \\; \\; \\; (T = 150)$$\n",
    "\n",
    "$$\\text{Time stepsize:} \\; \\Delta t = \\frac{T}{N} \\; \\; \\; \\; \\; (\\text{Pattern 1: 1/3, Pattern 2: 1/24, Pattern 3: 1/384})$$\n",
    "\n",
    "$$\\text{Number of time steps:} \\; N = \\frac{T}{\\Delta t} \\; \\; \\; \\; \\; \\left(\\text{Pattern 1: 450, Pattern 2: 3600, Pattern 3: 57600}\\right)$$\n",
    "\n",
    "$$\\text{Approximation at point} \\; (x_i,y_j,t_n): \\; \\vec{U}_{k}^n = \\begin{bmatrix} U_{i,j}^n \\\\ V_{i,j}^n\\end{bmatrix}$$\n",
    "\n",
    "$$U_k^n = U_{i,j}^n \\; \\; \\; \\; \\; \\; \\boldsymbol{k = i + j(J+1)} \\; \\; \\; \\; i,j = 0,...,J$$\n",
    "\n",
    "$$V_k^n = V_{i,j}^n \\; \\; \\; \\; \\; \\; \\boldsymbol{k = i + j(J+1)} \\; \\; \\; \\; i,j = 0,...,J$$\n",
    "\n",
    "The finite difference scheme, \"Scheme 2\" in source [1], is given as \n",
    "\n",
    "$$f\\left(\\vec{U}_{k}^{n-1}\\right) = U_{i,j}^{n-1} - U_{i,j}^{n-1}\\big|U_{i,j}^{n-1}\\big| - V_{i,j}^{n-1} \\hat{h}\\left(a U_{i,j}^{n-1}\\right) \\tag{4}$$\n",
    "\n",
    "$$g\\left(\\vec{U}_{k}^{n-1}\\right) = bV_{i,j}^{n-1}\\hat{h}\\left(aU_{i,j}^{n-1}\\right) - cV_{i,j}^{n-1} \\tag{5}$$\n",
    "\n",
    "$$n = 1,...,N$$"
   ]
  },
  {
   "cell_type": "markdown",
   "metadata": {},
   "source": [
    "## C. Associated Linear System\n",
    "\n",
    "Using the finite difference scheme above, the associated linear system can be expressed in block matrix notation:\n",
    "\n",
    "$$\n",
    "\\left[\\begin{array}{c|c} B_1 & 0  \\\\ \\hline 0 & B_2 \\end{array}\\right] \\begin{bmatrix} U_k^n \\\\ V_k^n \\end{bmatrix} = \\begin{bmatrix} U_k^{n-1} + \\Delta t F \\\\ V_k^{n-1} + \\Delta t G\\end{bmatrix} \\; \\; \\; \\; \\; 1 \\leq n \\leq N\n",
    "\\tag{6}\n",
    "$$\n",
    "\n",
    "$$\\{F\\}_k = f\\left(\\vec{U}_{k}^{n-1}\\right) \\; \\; \\; \\; \\; \\{G\\}_k = g\\left(\\vec{U}_{k}^{n-1}\\right)$$\n",
    "\n",
    "System (6) appears in the code as ``AMATs XSOLN = BVEC``. This system is solved $N$ times via the Biconjugate Gradient Algorithm in the time loop. The matrices $B_1$ and $B_2$ are defined on p 953-954 in source [1] as\n",
    "\n",
    "$$B_1 = I + \\Delta t L \\; \\; \\; \\; \\; \\; \\; \\; \\; \\; B_2 = I + \\delta \\Delta t L$$\n",
    "\n",
    "where $I$ is the identity matrix. $L$ is a $(J+1)^2 \\times (J+1)^2$ block tridiagonal matrix consisting of $(J+1) \\times (J+1)$ blocks. The matrix and vectors in system (6) are large: ``AMATs`` is $2(J+1)^2 \\times 2(J+1)^2,$ ``XSOLN`` is $2(J+1)^2 \\times 1$, and ``BVEC`` is $2(J+1)^2 \\times 1$. However, we can save storage by defining the blocks in ``AMATs`` as sparse matrices.\n",
    "\n",
    "The block tridiagonal matrix $L$ is given as\n",
    "\n",
    "$$L = \\frac{1}{h^2}\\begin{bmatrix} S & T & \\hfill \\\\ W & X & W & \\hfill \\\\ \\hfill & W & X & W & \\hfill \\\\ \\hfill & \\hfill & \\ddots & \\ddots & \\ddots & \\hfill \\\\ \\hfill & \\hfill & \\hfill & W & X & W & \\hfill \\\\ \\hfill & \\hfill & \\hfill & \\hfill & W & X & W \\\\ \\hfill & \\hfill & \\hfill & \\hfill & \\hfill & Y & Z\\end{bmatrix} \\tag{7}$$\n",
    "\n",
    "where the blocks $S,T,W,X,Y,Z$ are defined below. $L$ is built slowly and carefully in the code (one block at a time in the order shown). The blocks are given as\n",
    "\n",
    "$$S = \\begin{bmatrix} 3 & -3/2 & \\hfill \\\\ -1 & 4 & -1 & \\hfill \\\\ \\hfill & -1 & 4 & -1 & \\hfill \\\\ \\hfill & \\hfill & \\ddots & \\ddots & \\ddots & \\hfill \\\\ \\hfill & \\hfill & \\hfill & -1 & 4 & -1 & \\hfill \\\\ \\hfill & \\hfill & \\hfill & \\hfill & -1 & 4 & -1 \\\\ \\hfill & \\hfill & \\hfill & \\hfill & \\hfill & -3 & 6\\end{bmatrix} \\; \\; \\; \\; \\; \\; \\; \\; \\; \\; T = \\text{diag}\\big\\{-3/2,-2,-2,...,-2,-2,-3\\big\\}$$\n",
    "\n",
    "$$W = -I \\; \\; \\; \\; \\; \\; \\; \\; \\; \\; X = \\begin{bmatrix} 4 & -2 & \\hfill \\\\ -1 & 4 & -1 & \\hfill \\\\ \\hfill & -1 & 4 & -1 & \\hfill \\\\ \\hfill & \\hfill & \\ddots & \\ddots & \\ddots & \\hfill \\\\ \\hfill & \\hfill & \\hfill & -1 & 4 & -1 & \\hfill \\\\ \\hfill & \\hfill & \\hfill & \\hfill & -1 & 4 & -1 \\\\ \\hfill & \\hfill & \\hfill & \\hfill & \\hfill & -2 & 4\\end{bmatrix} $$\n",
    "\n",
    "$$Y = \\text{diag}\\big\\{-3,-2,-2,...,-2,-2,-3/2 \\big\\} \\; \\; \\; \\; \\; \\; \\; \\; \\; \\; Z = \\begin{bmatrix} 6 & -3 & \\hfill \\\\ -1 & 4 & -1 & \\hfill \\\\ \\hfill & -1 & 4 & -1 & \\hfill \\\\ \\hfill & \\hfill & \\ddots & \\ddots & \\ddots & \\hfill \\\\ \\hfill & \\hfill & \\hfill & -1 & 4 & -1 & \\hfill \\\\ \\hfill & \\hfill & \\hfill & \\hfill & -1 & 4 & -1 \\\\ \\hfill & \\hfill & \\hfill & \\hfill & \\hfill & -3/2 & 3\\end{bmatrix}$$\n",
    "\n",
    "where $\\text{diag}$ denotes a diagonal matrix. These matrices are defined in source [1] with the zero-flux boundary conditions in mind. The discussion on boundary conditions (p 952-953) is omitted here for the sake of brevity."
   ]
  },
  {
   "cell_type": "markdown",
   "metadata": {},
   "source": [
    "## D. Code \n",
    "\n",
    "The following code is written for the purpose of solving ``AMATs XSOLN = BVEC`` at each time step. \n",
    "\n",
    "## 1. Parameters"
   ]
  },
  {
   "cell_type": "code",
   "execution_count": 1,
   "metadata": {},
   "outputs": [],
   "source": [
    "import numpy as np\n",
    "import numpy.linalg as la\n",
    "import matplotlib.pyplot as plt"
   ]
  },
  {
   "cell_type": "code",
   "execution_count": 2,
   "metadata": {},
   "outputs": [],
   "source": [
    "#Set values for parameters corresponding to Fig. 4 in [1]\n",
    "\n",
    "alpha = 0.4\n",
    "beta = 2.0\n",
    "gamma = 0.6\n",
    "delta = 1.0\n",
    "\n",
    "#Domain\n",
    "\n",
    "a = 0.0\n",
    "b = 500.0\n",
    "\n",
    "#Space step\n",
    "\n",
    "h = 1.0                              \n",
    "\n",
    "#Time step\n",
    "#Figure 4 (b)\n",
    "\n",
    "deltat_pattern1 = 1.0/3.0\n",
    "\n",
    "#Max time\n",
    "\n",
    "T = 150.0"
   ]
  },
  {
   "cell_type": "code",
   "execution_count": 3,
   "metadata": {},
   "outputs": [],
   "source": [
    "#Constants: line 16 in fd2d.m in [3]\n",
    "\n",
    "J = (b-a)/h                #number of divisions of x-axis\n",
    "dimJ = J+1                 #number of nodes on x-axis\n",
    "ntotal = dimJ**2           #total number of nodes for U and V each \n",
    "N = T/deltat_pattern1      #number of time steps "
   ]
  },
  {
   "cell_type": "code",
   "execution_count": 4,
   "metadata": {},
   "outputs": [],
   "source": [
    "#Convert to integers to be used in loops\n",
    "\n",
    "ntotalint = int(ntotal)     \n",
    "dimJint = int(dimJ)         \n",
    "Nint = int(N)"
   ]
  },
  {
   "cell_type": "code",
   "execution_count": 5,
   "metadata": {},
   "outputs": [],
   "source": [
    "#Mesh: line 26 in fd2d.m in [3]\n",
    "\n",
    "coords = np.zeros(dimJint)\n",
    "for i in range(dimJint):\n",
    "    coords[i] = i\n",
    "     \n",
    "X, Y = np.meshgrid(coords,coords)    #line 29 in fd2d.m in [3]: rename \"x\" as \"coords\""
   ]
  },
  {
   "cell_type": "markdown",
   "metadata": {},
   "source": [
    "## 2. Sparse Matrix AMATs\n",
    "\n",
    "## (i) Sparse Blocks Ss, Ts, Ws, Xs, Ys, and Zs"
   ]
  },
  {
   "cell_type": "code",
   "execution_count": 6,
   "metadata": {},
   "outputs": [],
   "source": [
    "#Each block in L is dimJ x dimJ where dimJ = J + 1\n",
    "#L is dimJ^2 x dimJ^2\n",
    "\n",
    "#Make each block in L one at a time with tridiags function\n",
    "#The \"n\" in the tridiags function is dimJ here\n",
    "\n",
    "n = 501                      \n",
    "\n",
    "from scipy import sparse as sp\n",
    "\n",
    "def tridiags(lower,main,upper,n):\n",
    "    return sp.diags(lower*np.ones(n-1), -1) + sp.diags(main*np.ones(n), 0) +sp.diags(upper*np.ones(n-1), 1)"
   ]
  },
  {
   "cell_type": "code",
   "execution_count": 7,
   "metadata": {},
   "outputs": [],
   "source": [
    "#Sparse S\n",
    "\n",
    "Ss = tridiags(-1,4,-1,n)\n",
    "Ss[0,0] = 3\n",
    "Ss[0,1] = -1.5\n",
    "Ss[n-1,n-2] = -3\n",
    "Ss[n-1,n-1] = 6\n",
    "\n",
    "#Sparse T\n",
    "\n",
    "Ts = tridiags(0,-2,0,n)   \n",
    "Ts[0,0] = -1.5\n",
    "Ts[n-1,n-1] = -3\n",
    "\n",
    "#Sparse W\n",
    "\n",
    "Ws = tridiags(0,-1,0,n)  \n",
    "\n",
    "#Sparse X\n",
    "\n",
    "Xs = tridiags(-1,4,-1,n)  \n",
    "Xs[0,1] = -2\n",
    "Xs[n-1,n-2] = -2\n",
    "\n",
    "#Sparse Y\n",
    "\n",
    "Ys = tridiags(0,-2,0,n)    \n",
    "Ys[0,0] = -3\n",
    "Ys[n-1,n-1] = -1.5\n",
    "\n",
    "#Sparse Z\n",
    "\n",
    "Zs = tridiags(-1,4,-1,n)  \n",
    "Zs[0,0] = 6\n",
    "Zs[0,1] = -3\n",
    "Zs[n-1,n-2] = -1.5\n",
    "Zs[n-1,n-1] = 3"
   ]
  },
  {
   "cell_type": "markdown",
   "metadata": {},
   "source": [
    "## (ii) Sparse Tridiagonal Block Matrix Ls\n",
    "\n",
    "We can construct the sparse matrix ``Ls`` (7) using the blocks defined above."
   ]
  },
  {
   "cell_type": "code",
   "execution_count": 8,
   "metadata": {},
   "outputs": [],
   "source": [
    "#Construct Ls in 3 steps\n",
    "\n",
    "inds = np.arange(n**2,dtype=int)\n",
    "indsrowsl = inds[n-1::n]           #row indeces where -2 occurs in X (lower diagonal)\n",
    "indscolsl = inds[n-2::n]           #column indeces where -2 occurs in X (lower diagonal)\n",
    "indsrowsu = inds[0::n]             #row indeces where -2 occurs in X (upper diagonal)\n",
    "indscolsu = inds[1::n]             #column indeces where -2 occurs in X (upper diagonal)"
   ]
  },
  {
   "cell_type": "code",
   "execution_count": 9,
   "metadata": {},
   "outputs": [
    {
     "name": "stderr",
     "output_type": "stream",
     "text": [
      "C:\\Users\\lukev\\Anaconda3\\lib\\site-packages\\scipy\\sparse\\_index.py:124: SparseEfficiencyWarning: Changing the sparsity structure of a csr_matrix is expensive. lil_matrix is more efficient.\n",
      "  self._set_arrayXarray(i, j, x)\n"
     ]
    }
   ],
   "source": [
    "#Step 1: symmetric tridiagonal block matrix (X on main diagonal, W on upper and lower diagonals)\n",
    "\n",
    "def makepreLs(n):\n",
    "    \n",
    "    result1 = sp.diags(4.0*np.ones(n*n),0) + sp.diags(-1.0*np.ones(n*n-1),-1) + sp.diags(-1.0*np.ones(n*n-1),1)\n",
    "    result1[n::n,n-1::n] = 0                         \n",
    "    result1[n-1::n,n::n] = 0 \n",
    "    \n",
    "    for i in range(n):\n",
    "        if indsrowsl[i] - indscolsl[i] == 1:         \n",
    "            result1[indsrowsl,indscolsl] = -2       \n",
    "    for i in range(n):\n",
    "        if indscolsu[i] - indsrowsu[i] == 1:         \n",
    "            result1[indsrowsu,indscolsu] = -2\n",
    "            \n",
    "    result2 = sp.diags(-1.0*np.ones(n*(n-1)),-n)      \n",
    "    result3 = sp.diags(-1.0*np.ones(n*(n-1)),n)      \n",
    "    \n",
    "    result = result1 + result2 + result3\n",
    "    return result\n",
    "\n",
    "#Step 2: Replace blocks on top and bottom rows \n",
    "#The result is L before being multiplied by 1/(h^2)\n",
    "    \n",
    "preLs = makepreLs(n)\n",
    "\n",
    "preLs[0:n, 0:n] = Ss\n",
    "preLs[0:n, n:2*n] = Ts\n",
    "preLs[n**2-n:n**2, n**2-2*n:n**2-n] = Ys\n",
    "preLs[n**2-n:n**2, n**2-n:ntotalint] = Zs\n",
    "\n",
    "#Step 3: multiply L by 1/(h^2)\n",
    "\n",
    "Ls = (1/(h**2))*preLs"
   ]
  },
  {
   "cell_type": "markdown",
   "metadata": {},
   "source": [
    "## (iii) Sparse Matrices B1s and B2s\n",
    "\n",
    "``B1s`` and ``B2s`` are used to define ``AMATs`` below."
   ]
  },
  {
   "cell_type": "code",
   "execution_count": 10,
   "metadata": {},
   "outputs": [],
   "source": [
    "#Sparse B1 and B2\n",
    "\n",
    "from scipy.sparse import identity\n",
    "\n",
    "Is = identity(n**2)\n",
    "B1s = Is + deltat_pattern1*Ls\n",
    "B2s = Is + delta*deltat_pattern1*Ls"
   ]
  },
  {
   "cell_type": "code",
   "execution_count": 11,
   "metadata": {},
   "outputs": [
    {
     "name": "stdout",
     "output_type": "stream",
     "text": [
      "Simple example\n",
      "************************************************************\n",
      "What block_diag does: take\n",
      "[[1. 2.]\n",
      " [3. 4.]]\n",
      "and\n",
      "[[5. 6.]\n",
      " [7. 8.]]\n",
      "then make\n",
      "[[1. 2. 0. 0.]\n",
      " [3. 4. 0. 0.]\n",
      " [0. 0. 5. 6.]\n",
      " [0. 0. 7. 8.]]\n",
      "************************************************************\n",
      "\n",
      "Sparse version of block_diag used to make AMATs\n",
      "AMATs is a  (502002, 502002)  matrix\n"
     ]
    }
   ],
   "source": [
    "#AMATs is a sparse block matrix with B1 and B2 on diagonal\n",
    "#Use block_diag to make AMATs\n",
    "\n",
    "#Import block_diag dense version, use to demonstrate what block_diag sparse version does\n",
    "\n",
    "from scipy.linalg import block_diag as bd_la\n",
    "\n",
    "#Simple example to demonstrate what block_diag does\n",
    "\n",
    "test1 = np.array([[1.,2.],[3.,4.]])\n",
    "test2 = np.array([[5.,6.],[7.,8.]])\n",
    "test = bd_la(test1,test2)\n",
    "\n",
    "print('Simple example')\n",
    "print('************************************************************')\n",
    "print('What block_diag does: take')\n",
    "print(test1)\n",
    "print('and')\n",
    "print(test2)\n",
    "print('then make')\n",
    "print(test)\n",
    "print('************************************************************')\n",
    "print('')\n",
    "\n",
    "#Import block_diag sparse version\n",
    "\n",
    "from scipy.sparse import block_diag as bd_sp\n",
    "\n",
    "#Make AMATs\n",
    "\n",
    "AMATs = bd_sp((B1s,B2s))\n",
    "print('Sparse version of block_diag used to make AMATs')\n",
    "print('AMATs is a ',np.shape(AMATs),' matrix')"
   ]
  },
  {
   "cell_type": "markdown",
   "metadata": {},
   "source": [
    "## 3. BVEC\n",
    "\n",
    "``BVEC`` is on the right-hand side of system (6). Define the two sums in ``BVEC`` as\n",
    "\n",
    "$$\n",
    "\\begin{align*}\n",
    "y1 & = U_k^{n-1} + \\Delta t F \\\\\n",
    "y2 & =  V_k^{n-1} + \\Delta t G\n",
    "\\end{align*}\n",
    "$$\n",
    "\n",
    "Since we have $n = 1,...,N,$ we need to set up ``BVEC`` with the initial condition provided in \"fd2d.inp\" [3].\n",
    "\n",
    "## (i) Initial Conditions"
   ]
  },
  {
   "cell_type": "code",
   "execution_count": 12,
   "metadata": {},
   "outputs": [],
   "source": [
    "#Fill BVEC at time t = 0: start with U0 and V0\n",
    "\n",
    "def U0(X,Y):\n",
    "    return (6.0/35.0) - (2e-7)*((X - 0.1*Y - 225.0)*(X - 0.1*Y - 675.0))\n",
    "def V0(X,Y):\n",
    "    return (116.0/245.0) - (3e-5)*(X-450.0) - (1.2e-4)*(Y-150.0)"
   ]
  },
  {
   "cell_type": "markdown",
   "metadata": {},
   "source": [
    "## (ii) Initial Condition Plots\n",
    "\n",
    "Initial condition plots are not provided in source [1]. However, for the sake of our curiosity, we can utilize color plots to see where the two species are at time $t = 0$. Both plots reveal striped patterns. The prey is concentrated in the east and the predator is concentrated in the south."
   ]
  },
  {
   "cell_type": "code",
   "execution_count": 13,
   "metadata": {},
   "outputs": [
    {
     "name": "stderr",
     "output_type": "stream",
     "text": [
      "<ipython-input-13-2177915f77f2>:10: MatplotlibDeprecationWarning: shading='flat' when X and Y have the same dimensions as C is deprecated since 3.3.  Either specify the corners of the quadrilaterals with X and Y, or pass shading='auto', 'nearest' or 'gouraud', or set rcParams['pcolor.shading'].  This will become an error two minor releases later.\n",
      "  imUinit = plt.pcolor(X,Y,Uinit,cmap=cmap)\n"
     ]
    },
    {
     "data": {
      "text/plain": [
       "(0.0, 400.0)"
      ]
     },
     "execution_count": 13,
     "metadata": {},
     "output_type": "execute_result"
    },
    {
     "data": {
      "image/png": "[encoded data removed]",
      "text/plain": [
       "<Figure size 432x288 with 2 Axes>"
      ]
     },
     "metadata": {
      "needs_background": "light"
     },
     "output_type": "display_data"
    }
   ],
   "source": [
    "#Initial condition: prey\n",
    "\n",
    "Uinit = U0(X,Y)*(np.ones((dimJint,dimJint)))\n",
    "\n",
    "#Plot\n",
    "\n",
    "import matplotlib.colors\n",
    "cmap = matplotlib.colors.ListedColormap(['blue','cyan','yellow','orange','red'])\n",
    "\n",
    "imUinit = plt.pcolor(X,Y,Uinit,cmap=cmap)\n",
    "plt.colorbar(imUinit)\n",
    "plt.title(\"Initial Condition: Prey\")\n",
    "plt.xlabel(\"x [m]\")\n",
    "plt.ylabel(\"y [m]\")\n",
    "\n",
    "#In [1], plots go up to x = y = 400\n",
    "#In whole grid, x and y go up to 500\n",
    "\n",
    "plt.xlim(0,400)\n",
    "plt.ylim(0,400)"
   ]
  },
  {
   "cell_type": "code",
   "execution_count": 14,
   "metadata": {},
   "outputs": [
    {
     "name": "stderr",
     "output_type": "stream",
     "text": [
      "<ipython-input-14-b32769421f8c>:7: MatplotlibDeprecationWarning: shading='flat' when X and Y have the same dimensions as C is deprecated since 3.3.  Either specify the corners of the quadrilaterals with X and Y, or pass shading='auto', 'nearest' or 'gouraud', or set rcParams['pcolor.shading'].  This will become an error two minor releases later.\n",
      "  imVinit = plt.pcolor(X,Y,Vinit,cmap=cmap)\n"
     ]
    },
    {
     "data": {
      "text/plain": [
       "(0.0, 400.0)"
      ]
     },
     "execution_count": 14,
     "metadata": {},
     "output_type": "execute_result"
    },
    {
     "data": {
      "image/png": "[encoded data removed]",
      "text/plain": [
       "<Figure size 432x288 with 2 Axes>"
      ]
     },
     "metadata": {
      "needs_background": "light"
     },
     "output_type": "display_data"
    }
   ],
   "source": [
    "#Initial condition: predator\n",
    "\n",
    "Vinit = V0(X,Y)*(np.ones((dimJint,dimJint)))\n",
    "\n",
    "#Plot\n",
    "\n",
    "imVinit = plt.pcolor(X,Y,Vinit,cmap=cmap)\n",
    "plt.colorbar(imVinit)\n",
    "plt.title(\"Initial Condition: Predator\")\n",
    "plt.xlabel(\"x [m]\")\n",
    "plt.ylabel(\"y [m]\")\n",
    "\n",
    "#Match x and y axis to prey plot\n",
    "\n",
    "plt.xlim(0,400)              \n",
    "plt.ylim(0,400)    "
   ]
  },
  {
   "cell_type": "code",
   "execution_count": 15,
   "metadata": {},
   "outputs": [],
   "source": [
    "#Convert initial condition matrices to vectors\n",
    "\n",
    "#Source: https://numpy.org/devdocs/user/numpy-for-matlab-users.html\n",
    "#MATLAB command a'...\n",
    "#has the equivalent command a.conj().T in NumPy\n",
    "\n",
    "Uinit = Uinit.conj().T            \n",
    "Vinit = Vinit.conj().T            \n",
    "\n",
    "#Source: https://numpy.org/devdocs/user/numpy-for-matlab-users.html\n",
    "#MATLAB command y = x(:)...\n",
    "#has the equivalent command y = x.flatten() in NumPy\n",
    "\n",
    "Uvec = Uinit.flatten('F')         \n",
    "Vvec = Vinit.flatten('F')         "
   ]
  },
  {
   "cell_type": "markdown",
   "metadata": {},
   "source": [
    "The remaining steps needed to construct ``BVEC`` are shown in the time loop.\n",
    "\n",
    "## 4. Biconjugate Gradient Algorithm\n",
    "\n",
    "Since ``AMATs`` is so large, we need an iterative scheme. The Biconjugate Gradient Algorithm is an iterative scheme that converges quickly to the solution. So this algorithm is a suitable candidate to solve ``AMATs BVEC = XSOLN`` at each time step. "
   ]
  },
  {
   "cell_type": "code",
   "execution_count": 16,
   "metadata": {},
   "outputs": [],
   "source": [
    "#Biconjugate Gradient Algorithm\n",
    "\n",
    "def bcg(A,b,x0,r0star,tol):  \n",
    "    \n",
    "    r0 = b - A@x0\n",
    "    \n",
    "    if np.dot(r0,r0star) != 0:\n",
    "        p0 = r0\n",
    "        p0star = r0star\n",
    "        \n",
    "        rprev = r0\n",
    "        pprev = p0\n",
    "        xprev = x0\n",
    "        pstarprev = p0star\n",
    "        rstarprev = r0star\n",
    "        rprevnorm = la.norm(rprev,2)    \n",
    "        \n",
    "        itcount = 0\n",
    "        \n",
    "        for i in range(50):                   \n",
    "        \n",
    "            alpha = np.dot(rprev,rstarprev)/np.dot(A@pprev,pstarprev)\n",
    "            xnext = xprev + alpha*pprev\n",
    "            rnext = rprev - alpha*(A@pprev)\n",
    "            rstarnext = rstarprev - alpha*((np.transpose(A))@pstarprev)\n",
    "            beta = np.dot(rnext,rstarnext)/np.dot(rprev,rstarprev)\n",
    "            pnext = rnext + beta*pprev\n",
    "            pstarnext = rstarnext + beta*pstarprev\n",
    "        \n",
    "            rprev = rnext\n",
    "            xprev = xnext\n",
    "            pprev = pnext\n",
    "            pstarprev = pstarnext\n",
    "            rstarprev = rstarnext\n",
    "        \n",
    "            itcount = itcount + 1\n",
    "            rnextnorm = la.norm(rnext,2)\n",
    "        \n",
    "            if rnextnorm < tol:\n",
    "                return xnext\n",
    "    \n",
    "    else:\n",
    "        print('Choose different r0*')"
   ]
  },
  {
   "cell_type": "markdown",
   "metadata": {},
   "source": [
    "## 5. XSOLN\n",
    "\n",
    "Use the ``bcg`` function to solve system (6) repeatedly in the time loop below.\n",
    "\n",
    "## (i) Time Loop\n",
    "\n",
    "The runtimes for each time loop are given below.\n",
    "\n",
    "$$\\text{Pattern 1: ~10 min}$$\n",
    "\n",
    "$$\\text{Pattern 2: ~15 min}$$\n",
    "\n",
    "$$\\text{Pattern 3: ~2 hr 15 min}$$"
   ]
  },
  {
   "cell_type": "code",
   "execution_count": 17,
   "metadata": {},
   "outputs": [],
   "source": [
    "#Functional response\n",
    "\n",
    "def hhatfunc(par, vec):\n",
    "    return vec/(par + np.absolute(vec))\n",
    "\n",
    "#Function bcg needs r0star, x0, and tol inputs\n",
    "\n",
    "dimxsoln = 2*(dimJ**2)\n",
    "dimxsolnint = int(dimxsoln)\n",
    "r0star = 0.5*np.ones(dimxsolnint)\n",
    "x0 = 0.5*np.ones(dimxsolnint)\n",
    "tol = 1e-6"
   ]
  },
  {
   "cell_type": "code",
   "execution_count": 18,
   "metadata": {
    "scrolled": true
   },
   "outputs": [],
   "source": [
    "#Time loop\n",
    "#N = 150/(1/3) = 450 time steps\n",
    "#Runtime ~10 min\n",
    "\n",
    "for i in range(1,Nint+1): \n",
    "    hhat = hhatfunc(alpha, Uvec)\n",
    "    F = Uvec - (Uvec*np.absolute(Uvec)) - (Vvec*hhat)\n",
    "    G = beta*(Vvec*hhat) - (gamma*Vvec)\n",
    "    y1 = Uvec + deltat_pattern1*F\n",
    "    y2 = Vvec + deltat_pattern1*G\n",
    "    BVEC = np.concatenate((y1,y2))\n",
    "    XSOLN = bcg(AMATs,BVEC,x0,r0star,tol)\n",
    "    UvecandVvec = np.split(XSOLN,2)\n",
    "    Uvec = UvecandVvec[0]\n",
    "    Vvec = UvecandVvec[1]"
   ]
  },
  {
   "cell_type": "code",
   "execution_count": 19,
   "metadata": {},
   "outputs": [],
   "source": [
    "#Convert Uvec and Vvec to matrices\n",
    "\n",
    "#Source: https://numpy.org/devdocs/user/numpy-for-matlab-users.html\n",
    "#MATLAB command z = reshape(x,3,4)...\n",
    "#has the equivalent command z = x.reshape(3,4,order='F').copy() in NumPy   \n",
    "\n",
    "Ugrid = Uvec.reshape(dimJint,dimJint,order='F').copy()         \n",
    "Vgrid = Vvec.reshape(dimJint,dimJint,order='F').copy()         \n",
    "\n",
    "#Source: https://numpy.org/devdocs/user/numpy-for-matlab-users.html\n",
    "#MATLAB command a'...\n",
    "#has the equivalent command a.conj().T in NumPy\n",
    "\n",
    "Ugrid = Ugrid.conj().T                                         \n",
    "Vgrid = Vgrid.conj().T                                         "
   ]
  },
  {
   "cell_type": "markdown",
   "metadata": {},
   "source": [
    "## III. Results\n",
    "\n",
    "Compare the following results to the spiral patterns in Figure 4 (b), (d), (f) in source [1]. Note: the authors do not provide predator plots. However, for the sake of our curiosity, predator plots are provided here. Pattern 1 corresponds to (b), Pattern 2 corresponds to (d), and Pattern 3 corresponds to (f). \n",
    "\n",
    "## A. Pattern 1\n",
    "\n",
    "Compare to Figure 4 (b) in source [1]."
   ]
  },
  {
   "cell_type": "code",
   "execution_count": 20,
   "metadata": {},
   "outputs": [
    {
     "name": "stderr",
     "output_type": "stream",
     "text": [
      "<ipython-input-20-1f2386fc805a>:5: MatplotlibDeprecationWarning: shading='flat' when X and Y have the same dimensions as C is deprecated since 3.3.  Either specify the corners of the quadrilaterals with X and Y, or pass shading='auto', 'nearest' or 'gouraud', or set rcParams['pcolor.shading'].  This will become an error two minor releases later.\n",
      "  imU = plt.pcolor(X,Y,Ugrid,cmap=cmap)\n"
     ]
    },
    {
     "data": {
      "image/png": "[encoded data removed]",
      "text/plain": [
       "<Figure size 432x288 with 2 Axes>"
      ]
     },
     "metadata": {
      "needs_background": "light"
     },
     "output_type": "display_data"
    },
    {
     "data": {
      "text/plain": [
       "<Figure size 432x288 with 0 Axes>"
      ]
     },
     "metadata": {},
     "output_type": "display_data"
    }
   ],
   "source": [
    "#Prey plot\n",
    "\n",
    "preyplot1 = plt.figure()                            \n",
    "\n",
    "imU = plt.pcolor(X,Y,Ugrid,cmap=cmap)\n",
    "plt.colorbar(imU)\n",
    "plt.title(\"Prey\")\n",
    "plt.xlabel(\"x [m]\")\n",
    "plt.ylabel(\"y [m]\")\n",
    "\n",
    "plt.xlim(0,400)\n",
    "plt.ylim(0,400)\n",
    "\n",
    "preyplot1 = plt.gcf()                              \n",
    "plt.show()                                         \n",
    "plt.draw()                                         \n",
    "preyplot1.savefig(\"preyplot1.png\",dpi=100)         "
   ]
  },
  {
   "cell_type": "code",
   "execution_count": 21,
   "metadata": {},
   "outputs": [
    {
     "name": "stderr",
     "output_type": "stream",
     "text": [
      "<ipython-input-21-9a3cdb2fddd8>:5: MatplotlibDeprecationWarning: shading='flat' when X and Y have the same dimensions as C is deprecated since 3.3.  Either specify the corners of the quadrilaterals with X and Y, or pass shading='auto', 'nearest' or 'gouraud', or set rcParams['pcolor.shading'].  This will become an error two minor releases later.\n",
      "  imV = plt.pcolor(X,Y,Vgrid,cmap=cmap)\n"
     ]
    },
    {
     "data": {
      "image/png": "[encoded data removed]",
      "text/plain": [
       "<Figure size 432x288 with 2 Axes>"
      ]
     },
     "metadata": {
      "needs_background": "light"
     },
     "output_type": "display_data"
    },
    {
     "data": {
      "text/plain": [
       "<Figure size 432x288 with 0 Axes>"
      ]
     },
     "metadata": {},
     "output_type": "display_data"
    }
   ],
   "source": [
    "#Predator plot\n",
    "\n",
    "predatorplot1 = plt.figure()         \n",
    "\n",
    "imV = plt.pcolor(X,Y,Vgrid,cmap=cmap)\n",
    "plt.colorbar(imV)\n",
    "plt.title(\"Predator\")\n",
    "plt.xlabel(\"x [m]\")\n",
    "plt.ylabel(\"y [m]\") \n",
    "\n",
    "plt.xlim(0,400)              \n",
    "plt.ylim(0,400)  \n",
    "\n",
    "predatorplot1 = plt.gcf()                                \n",
    "plt.show()                                               \n",
    "plt.draw()                                               \n",
    "predatorplot1.savefig(\"predatorplot1.png\",dpi=100)       "
   ]
  },
  {
   "cell_type": "markdown",
   "metadata": {},
   "source": [
    "## B. Pattern 2\n",
    "\n",
    "Compare to Figure 4 (d) in source [1]."
   ]
  },
  {
   "cell_type": "code",
   "execution_count": 23,
   "metadata": {},
   "outputs": [],
   "source": [
    "#Time step\n",
    "#Figure 4 (d)\n",
    "\n",
    "deltat_pattern2 = 1.0/24.0\n",
    "\n",
    "#Number of time steps\n",
    "\n",
    "N = T/deltat_pattern2       \n",
    "\n",
    "#Convert to integer to be used in loops\n",
    "\n",
    "Nint = int(N)"
   ]
  },
  {
   "cell_type": "code",
   "execution_count": 24,
   "metadata": {},
   "outputs": [],
   "source": [
    "#Sparse B1 and B2\n",
    "\n",
    "B1s = Is + deltat_pattern2*Ls\n",
    "B2s = Is + delta*deltat_pattern2*Ls"
   ]
  },
  {
   "cell_type": "code",
   "execution_count": 25,
   "metadata": {},
   "outputs": [],
   "source": [
    "#Make AMATs\n",
    "\n",
    "AMATs = bd_sp((B1s,B2s))"
   ]
  },
  {
   "cell_type": "code",
   "execution_count": 26,
   "metadata": {},
   "outputs": [],
   "source": [
    "#Convert initial condition matrices to vectors\n",
    "\n",
    "Uvec = Uinit.flatten('F')         \n",
    "Vvec = Vinit.flatten('F')         "
   ]
  },
  {
   "cell_type": "code",
   "execution_count": 27,
   "metadata": {},
   "outputs": [],
   "source": [
    "#Time loop\n",
    "#N = 150/(1/24) = 3,600 time steps\n",
    "#Runtime ~15 min\n",
    "\n",
    "for i in range(1,Nint+1): \n",
    "    #print('TIME STEP ', i)                                                            #TOGGLE COMMENT\n",
    "    hhat = hhatfunc(alpha, Uvec)\n",
    "    F = Uvec - (Uvec*np.absolute(Uvec)) - (Vvec*hhat)\n",
    "    G = beta*(Vvec*hhat) - (gamma*Vvec)\n",
    "    y1 = Uvec + deltat_pattern2*F\n",
    "    y2 = Vvec + deltat_pattern2*G\n",
    "    BVEC = np.concatenate((y1,y2))\n",
    "    XSOLN = bcg(AMATs,BVEC,x0,r0star,tol)\n",
    "    UvecandVvec = np.split(XSOLN,2)\n",
    "    Uvec = UvecandVvec[0]\n",
    "    Vvec = UvecandVvec[1]"
   ]
  },
  {
   "cell_type": "code",
   "execution_count": 28,
   "metadata": {},
   "outputs": [],
   "source": [
    "#Convert Uvec and Vvec to matrices  \n",
    "\n",
    "Ugrid = Uvec.reshape(dimJint,dimJint,order='F').copy()         \n",
    "Vgrid = Vvec.reshape(dimJint,dimJint,order='F').copy()         \n",
    "\n",
    "Ugrid = Ugrid.conj().T                                         \n",
    "Vgrid = Vgrid.conj().T  "
   ]
  },
  {
   "cell_type": "code",
   "execution_count": 29,
   "metadata": {},
   "outputs": [
    {
     "name": "stderr",
     "output_type": "stream",
     "text": [
      "<ipython-input-29-02248971b3a4>:5: MatplotlibDeprecationWarning: shading='flat' when X and Y have the same dimensions as C is deprecated since 3.3.  Either specify the corners of the quadrilaterals with X and Y, or pass shading='auto', 'nearest' or 'gouraud', or set rcParams['pcolor.shading'].  This will become an error two minor releases later.\n",
      "  imU = plt.pcolor(X,Y,Ugrid,cmap=cmap)\n"
     ]
    },
    {
     "data": {
      "image/png": "[encoded data removed]",
      "text/plain": [
       "<Figure size 432x288 with 2 Axes>"
      ]
     },
     "metadata": {
      "needs_background": "light"
     },
     "output_type": "display_data"
    },
    {
     "data": {
      "text/plain": [
       "<Figure size 432x288 with 0 Axes>"
      ]
     },
     "metadata": {},
     "output_type": "display_data"
    }
   ],
   "source": [
    "#Prey plot\n",
    "\n",
    "preyplot2 = plt.figure()                            \n",
    "\n",
    "imU = plt.pcolor(X,Y,Ugrid,cmap=cmap)\n",
    "plt.colorbar(imU)\n",
    "plt.title(\"Prey\")\n",
    "plt.xlabel(\"x [m]\")\n",
    "plt.ylabel(\"y [m]\")\n",
    "\n",
    "plt.xlim(0,400)\n",
    "plt.ylim(0,400)\n",
    "\n",
    "preyplot2 = plt.gcf()                              \n",
    "plt.show()                                         \n",
    "plt.draw()\n",
    "preyplot2.savefig(\"preyplot2.png\",dpi=100)         "
   ]
  },
  {
   "cell_type": "code",
   "execution_count": 30,
   "metadata": {},
   "outputs": [
    {
     "name": "stderr",
     "output_type": "stream",
     "text": [
      "<ipython-input-30-c0985acad1b1>:5: MatplotlibDeprecationWarning: shading='flat' when X and Y have the same dimensions as C is deprecated since 3.3.  Either specify the corners of the quadrilaterals with X and Y, or pass shading='auto', 'nearest' or 'gouraud', or set rcParams['pcolor.shading'].  This will become an error two minor releases later.\n",
      "  imV = plt.pcolor(X,Y,Vgrid,cmap=cmap)\n"
     ]
    },
    {
     "data": {
      "image/png": "[encoded data removed]",
      "text/plain": [
       "<Figure size 432x288 with 2 Axes>"
      ]
     },
     "metadata": {
      "needs_background": "light"
     },
     "output_type": "display_data"
    },
    {
     "data": {
      "text/plain": [
       "<Figure size 432x288 with 0 Axes>"
      ]
     },
     "metadata": {},
     "output_type": "display_data"
    }
   ],
   "source": [
    "#Predator plot\n",
    "\n",
    "predatorplot2 = plt.figure()                              \n",
    "\n",
    "imV = plt.pcolor(X,Y,Vgrid,cmap=cmap)\n",
    "plt.colorbar(imV)\n",
    "plt.title(\"Predator\")\n",
    "plt.xlabel(\"x [m]\")\n",
    "plt.ylabel(\"y [m]\") \n",
    "\n",
    "plt.xlim(0,400)              \n",
    "plt.ylim(0,400)  \n",
    "\n",
    "predatorplot2 = plt.gcf()                                \n",
    "plt.show()                                               \n",
    "plt.draw()                                               \n",
    "predatorplot2.savefig(\"predatorplot2.png\",dpi=100)       "
   ]
  },
  {
   "cell_type": "markdown",
   "metadata": {},
   "source": [
    "## C. Pattern 3\n",
    "\n",
    "Compare to Figure 4 (f) in source [1]."
   ]
  },
  {
   "cell_type": "code",
   "execution_count": 31,
   "metadata": {},
   "outputs": [],
   "source": [
    "#Time step\n",
    "#Figure 4 (f)\n",
    "\n",
    "deltat_pattern3 = 1.0/384.0\n",
    "\n",
    "#Number of time steps\n",
    "\n",
    "N = T/deltat_pattern3               \n",
    "Nint = int(N)"
   ]
  },
  {
   "cell_type": "code",
   "execution_count": 32,
   "metadata": {},
   "outputs": [],
   "source": [
    "#Make AMATs\n",
    "\n",
    "B1s = Is + deltat_pattern3*Ls\n",
    "B2s = Is + delta*deltat_pattern3*Ls\n",
    "AMATs = bd_sp((B1s,B2s))"
   ]
  },
  {
   "cell_type": "code",
   "execution_count": 33,
   "metadata": {},
   "outputs": [],
   "source": [
    "#Convert Uinit and Vinit matrices to vectors\n",
    "\n",
    "Uvec = Uinit.flatten('F')        \n",
    "Vvec = Vinit.flatten('F')         "
   ]
  },
  {
   "cell_type": "code",
   "execution_count": 34,
   "metadata": {},
   "outputs": [],
   "source": [
    "#Time loop\n",
    "#N = 150/(1/384) = 57,600 time steps\n",
    "#Runtime ~2 hr 15 min\n",
    "\n",
    "for i in range(1,Nint+1): \n",
    "    hhat = hhatfunc(alpha, Uvec)\n",
    "    F = Uvec - (Uvec*np.absolute(Uvec)) - (Vvec*hhat)\n",
    "    G = beta*(Vvec*hhat) - (gamma*Vvec)\n",
    "    y1 = Uvec + deltat_pattern3*F\n",
    "    y2 = Vvec + deltat_pattern3*G\n",
    "    BVEC = np.concatenate((y1,y2))\n",
    "    XSOLN = bcg(AMATs,BVEC,x0,r0star,tol)\n",
    "    UvecandVvec = np.split(XSOLN,2)\n",
    "    Uvec = UvecandVvec[0]\n",
    "    Vvec = UvecandVvec[1]"
   ]
  },
  {
   "cell_type": "code",
   "execution_count": 35,
   "metadata": {},
   "outputs": [],
   "source": [
    "#Convert Uvec and Vvec to matrices  \n",
    "\n",
    "Ugrid = Uvec.reshape(dimJint,dimJint,order='F').copy()         \n",
    "Vgrid = Vvec.reshape(dimJint,dimJint,order='F').copy()         \n",
    "\n",
    "Ugrid = Ugrid.conj().T                                         \n",
    "Vgrid = Vgrid.conj().T        "
   ]
  },
  {
   "cell_type": "code",
   "execution_count": 36,
   "metadata": {},
   "outputs": [
    {
     "name": "stderr",
     "output_type": "stream",
     "text": [
      "<ipython-input-36-03c04eab5242>:5: MatplotlibDeprecationWarning: shading='flat' when X and Y have the same dimensions as C is deprecated since 3.3.  Either specify the corners of the quadrilaterals with X and Y, or pass shading='auto', 'nearest' or 'gouraud', or set rcParams['pcolor.shading'].  This will become an error two minor releases later.\n",
      "  imU = plt.pcolor(X,Y,Ugrid,cmap=cmap)\n"
     ]
    },
    {
     "data": {
      "image/png": "[encoded data removed]",
      "text/plain": [
       "<Figure size 432x288 with 2 Axes>"
      ]
     },
     "metadata": {
      "needs_background": "light"
     },
     "output_type": "display_data"
    },
    {
     "data": {
      "text/plain": [
       "<Figure size 432x288 with 0 Axes>"
      ]
     },
     "metadata": {},
     "output_type": "display_data"
    }
   ],
   "source": [
    "#Prey plot\n",
    "\n",
    "preyplot3 = plt.figure()                            \n",
    "\n",
    "imU = plt.pcolor(X,Y,Ugrid,cmap=cmap)\n",
    "plt.colorbar(imU)\n",
    "plt.title(\"Prey\")\n",
    "plt.xlabel(\"x [m]\")\n",
    "plt.ylabel(\"y [m]\")\n",
    "\n",
    "plt.xlim(0,400)\n",
    "plt.ylim(0,400)\n",
    "\n",
    "preyplot3 = plt.gcf()                              \n",
    "plt.show()                                         \n",
    "plt.draw()                                         \n",
    "preyplot3.savefig(\"preyplot3.png\",dpi=100)         "
   ]
  },
  {
   "cell_type": "code",
   "execution_count": 37,
   "metadata": {},
   "outputs": [
    {
     "name": "stderr",
     "output_type": "stream",
     "text": [
      "<ipython-input-37-07a0cdff2e64>:5: MatplotlibDeprecationWarning: shading='flat' when X and Y have the same dimensions as C is deprecated since 3.3.  Either specify the corners of the quadrilaterals with X and Y, or pass shading='auto', 'nearest' or 'gouraud', or set rcParams['pcolor.shading'].  This will become an error two minor releases later.\n",
      "  imV = plt.pcolor(X,Y,Vgrid,cmap=cmap)\n"
     ]
    },
    {
     "data": {
      "image/png": "[encoded data removed]",
      "text/plain": [
       "<Figure size 432x288 with 2 Axes>"
      ]
     },
     "metadata": {
      "needs_background": "light"
     },
     "output_type": "display_data"
    },
    {
     "data": {
      "text/plain": [
       "<Figure size 432x288 with 0 Axes>"
      ]
     },
     "metadata": {},
     "output_type": "display_data"
    }
   ],
   "source": [
    "#Predator plot \n",
    "\n",
    "predatorplot3 = plt.figure()                              \n",
    "\n",
    "imV = plt.pcolor(X,Y,Vgrid,cmap=cmap)\n",
    "plt.colorbar(imV)\n",
    "plt.title(\"Predator\")\n",
    "plt.xlabel(\"x [m]\")\n",
    "plt.ylabel(\"y [m]\") \n",
    "\n",
    "plt.xlim(0,400)              \n",
    "plt.ylim(0,400)  \n",
    "\n",
    "predatorplot3 = plt.gcf()                                \n",
    "plt.show()                                               \n",
    "plt.draw()                                               \n",
    "predatorplot3.savefig(\"predatorplot3.png\",dpi=100)       "
   ]
  },
  {
   "cell_type": "markdown",
   "metadata": {},
   "source": [
    "## IV. Conclusion\n",
    "\n",
    "We can discuss three noteworthy aspects of the spiral patterns. First, the patterns are not stationary. Second, the patterns are linked to the behavior of aquatic populations. Third, the populations are staggered throughout the domain, providing insights into predator-prey dynamics.\n",
    "\n",
    "The authors of source [1] briefly discuss why the patterns are not stationary on p 935. Stationary spatial patterns rely on significant differences between predator and prey diffusion coefficients. \"In some situations, one can assume that the diffusion coefficients of predators and prey are equal, excluding the possibility of 'Turing patterns.' For example, this assumption is valid for plankton communities, where turbulent diffusivity is usually much greater than the diffusivity of the plankton species, but less valid for terrestrial communities, where the predator population is typically more motile than the prey population\" [1]. \n",
    "\n",
    "The diffusion coefficients for both species are set equal to 1 in the source code [2]. Therefore, the populations modeled here can be characterized as aquatic. For future projects, we could choose to model terrestrial populations instead. Then we could study different types of patterns.\n",
    "\n",
    "The spiral patterns reveal that the prey actively avoids the predator. In Pattern 1 and Pattern 3, the predator is chasing the prey to the outskirts of the domain. In Pattern 2, the predator is closing in on the prey in the interior. In each case, the two species are staggered. The word \"staggered\" is often fitting when describing numerical simulations of predator-prey dynamics. Generally, wherever the density is high for one species, the density is low for the other (and vice versa). These results are what we should expect to see."
   ]
  },
  {
   "cell_type": "markdown",
   "metadata": {},
   "source": [
    "## V. Appendix\n",
    "\n",
    "The change of variables in system (1) and newly defined parameters are given below. Drop the tildes to obtain the dimensionless system (2).\n",
    "\n",
    "$$\\tilde{u} = \\frac{u}{w} \\; \\; \\; \\; \\; \\; \\; \\; \\; \\; \\tilde{v} = v\\left(\\frac{p}{rw}\\right) \\; \\; \\; \\; \\; \\; \\; \\; \\; \\; \\tilde{t} = rt \\; \\; \\; \\; \\; \\; \\; \\; \\; \\; \\tilde{x_i} = x_i\\left(\\frac{r}{\\delta_1}\\right)^{1/2}$$\n",
    "\n",
    "$$a = kw \\; \\; \\; \\; \\; \\; \\; \\; \\; \\; b = \\frac{q}{r} \\; \\; \\; \\; \\; \\; \\; \\; \\; \\; c = \\frac{s}{r} \\; \\; \\; \\; \\; \\; \\; \\; \\; \\; \\delta = \\frac{\\delta_2}{\\delta_1}$$"
   ]
  },
  {
   "cell_type": "markdown",
   "metadata": {},
   "source": [
    "## VI. Sources\n",
    "\n",
    "$\\color{blue}{[1]}$ Garvie, Marcus R. “Finite-Difference Schemes for Reaction–Diffusion Equations Modeling Predator–Prey Interactions in MATLAB.” Bulletin of Mathematical Biology, Springer-Verlag, 1 Feb. 2007, https://link.springer.com/article/10.1007/s11538-006-9062-3. \n",
    "\n",
    "$\\color{blue}{[2]}$ Source code: https://github.com/mgarvie/PRED_PREY_SIM_FD2D/blob/master/fd2d.m\n",
    "\n",
    "$\\color{blue}{[3]}$ Additional files: \n",
    "https://github.com/mgarvie/PRED_PREY_SIM_FD2D\n",
    "\n",
    "$\\color{blue}{[4]}$ Visualization of domain size: https://drive.google.com/file/d/14Hoq4J0xHebDvFw05Ch_d-fggKgOCqXI/view\n",
    "\n",
    "https://drive.google.com/file/d/1x35gobKiMUvsf74Vp4kq4wG4nItcmxTw/view?usp=sharing"
   ]
  }
 ],
 "metadata": {
  "kernelspec": {
   "display_name": "Python 3",
   "language": "python",
   "name": "python3"
  },
  "language_info": {
   "codemirror_mode": {
    "name": "ipython",
    "version": 3
   },
   "file_extension": ".py",
   "mimetype": "text/x-python",
   "name": "python",
   "nbconvert_exporter": "python",
   "pygments_lexer": "ipython3",
   "version": "3.8.5"
  }
 },
 "nbformat": 4,
 "nbformat_minor": 4
}
